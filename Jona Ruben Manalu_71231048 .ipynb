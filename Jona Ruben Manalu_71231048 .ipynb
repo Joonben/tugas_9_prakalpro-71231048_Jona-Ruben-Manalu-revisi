{
 "cells": [
  {
   "cell_type": "code",
   "execution_count": 2,
   "id": "05419b02",
   "metadata": {},
   "outputs": [
    {
     "name": "stdout",
     "output_type": "stream",
     "text": [
      "Masukkan nama file sertakan format file\n",
      ": file1.txt\n",
      "Masukkan nama file sertakan format file\n",
      ": file2.txt\n",
      "Baris ke 1 sama\n",
      "\n",
      "Baris ke 2 sama\n",
      "\n",
      "Baris ke 3 sama\n",
      "\n",
      "Baris ke 4 sama\n",
      "\n",
      "Baris ke 5 sama\n",
      "\n",
      "Baris ke 6 sama\n",
      "\n",
      "Baris ke 7 sama\n",
      "\n",
      "Baris ke 8 sama\n",
      "\n",
      "Baris ke 9 beda\n",
      "Teks 1 :\n",
      "saya suka ikan\n",
      "Teks 2 :\n",
      "saya suka sayur\n",
      "\n"
     ]
    }
   ],
   "source": [
    "y = input('Masukkan nama file sertakan format file\\n: ')\n",
    "x = input('Masukkan nama file sertakan format file\\n: ')\n",
    "tes1 = open(y, 'r')\n",
    "with open(y,'r+') as tes1, open(x,'r+') as tes2:\n",
    "    pertama = tes1.readlines()\n",
    "    kedua = tes2.readlines()\n",
    "    if pertama == kedua:\n",
    "        print (\"File Sama\")\n",
    "    else:\n",
    "        a = len(pertama)\n",
    "        b = len(kedua)\n",
    "        if a == b:\n",
    "            for i in range (0,a):\n",
    "                baris1 = pertama[i]\n",
    "                baris2 = kedua[i]\n",
    "                if pertama[i] == kedua[i]:\n",
    "                    print (f\"Baris ke {i+1} sama\\n\")\n",
    "                else:\n",
    "                    print (f\"Baris ke {i+1} beda\")\n",
    "                    print (f\"Teks 1 :\\n{pertama[i].strip()}\")\n",
    "                    print (f\"Teks 2 :\\n{kedua[i].strip()}\\n\")"
   ]
  },
  {
   "cell_type": "code",
   "execution_count": 14,
   "id": "e22daedc",
   "metadata": {},
   "outputs": [
    {
     "name": "stdout",
     "output_type": "stream",
     "text": [
      "1+1 =\n",
      "jawab :2\n",
      "Jawaban Anda Benar\n",
      "Bendera Indonesia??\n",
      "jawab :merah putih\n",
      "Jawaban Anda Benar\n",
      "Kota gudeg adalah :\n",
      "jawab :yogyakarta\n",
      "Jawaban Anda Benar\n",
      "Komponen PC untuk Penyimpanan file adalah ...\n",
      "jawab :harddisk\n",
      "Jawaban Anda Benar\n",
      "50 * 20 =\n",
      "jawab :1000\n",
      "Jawaban Anda Benar\n"
     ]
    }
   ],
   "source": [
    "soal = open(\"soal.txt\", \"r\")\n",
    "\n",
    "for teks in soal:\n",
    "    i = teks.split(\" || \")\n",
    "    print (i[0])\n",
    "    jawab = input(\"jawab :\")\n",
    "    if jawab.lower() == i[1].lower().replace(\"\\n\", \"\"):\n",
    "        print(\"Jawaban Anda Benar\")\n",
    "    else:\n",
    "        print(\"Jawaban Anda Salah\")"
   ]
  },
  {
   "cell_type": "code",
   "execution_count": null,
   "id": "8f062d4e",
   "metadata": {},
   "outputs": [],
   "source": []
  }
 ],
 "metadata": {
  "kernelspec": {
   "display_name": "Python 3 (ipykernel)",
   "language": "python",
   "name": "python3"
  },
  "language_info": {
   "codemirror_mode": {
    "name": "ipython",
    "version": 3
   },
   "file_extension": ".py",
   "mimetype": "text/x-python",
   "name": "python",
   "nbconvert_exporter": "python",
   "pygments_lexer": "ipython3",
   "version": "3.11.5"
  }
 },
 "nbformat": 4,
 "nbformat_minor": 5
}
